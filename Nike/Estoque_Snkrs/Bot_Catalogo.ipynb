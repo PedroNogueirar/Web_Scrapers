{
 "cells": [
  {
   "cell_type": "code",
   "execution_count": 1,
   "metadata": {},
   "outputs": [],
   "source": [
    "import pandas as pd\n",
    "from bs4 import BeautifulSoup\n",
    "import numpy as np\n",
    "from selenium import webdriver\n",
    "from selenium.common.exceptions import NoSuchElementException\n",
    "import time\n",
    "import re"
   ]
  },
  {
   "cell_type": "code",
   "execution_count": 67,
   "metadata": {},
   "outputs": [],
   "source": [
    "def scrolla_pra_baixo(driver: webdriver):\n",
    "    tempo_pausa_scroll = 0.5\n",
    "    last_height = driver.execute_script(\"return document.body.scrollHeight\")\n",
    "    \n",
    "    while True:\n",
    "        driver.execute_script(\"window.scrollTo(0, document.body.scrollHeight);\")\n",
    "        time.sleep(tempo_pausa_scroll)\n",
    "\n",
    "        new_height = driver.execute_script(\"return document.body.scrollHeight\")\n",
    "        if new_height == last_height:\n",
    "            break\n",
    "        last_height = new_height"
   ]
  },
  {
   "cell_type": "code",
   "execution_count": 3,
   "metadata": {},
   "outputs": [],
   "source": [
    "def obtem_codigo_fonte(url: str) -> str:\n",
    "    chrome_options = webdriver.ChromeOptions()\n",
    "    chrome_options.add_argument('--headless')\n",
    "    driver = webdriver.Chrome(executable_path = '../chromedriver.exe', chrome_options = chrome_options)\n",
    "    driver.get(url)\n",
    "    scrolla_pra_baixo(driver)\n",
    "\n",
    "    return driver.page_source"
   ]
  },
  {
   "cell_type": "code",
   "execution_count": 4,
   "metadata": {
    "scrolled": true
   },
   "outputs": [
    {
     "name": "stderr",
     "output_type": "stream",
     "text": [
      "<ipython-input-3-7172526d085b>:4: DeprecationWarning: use options instead of chrome_options\n",
      "  driver = webdriver.Chrome(executable_path = '../chromedriver.exe', chrome_options = chrome_options)\n"
     ]
    },
    {
     "data": {
      "text/plain": [
       "['https://www.nike.com.br/air-jordan-1-low-og-153-169-211-315618',\n",
       " 'https://www.nike.com.br/air-jordan-7-153-169-211-315592',\n",
       " 'https://www.nike.com.br/womens-lahar-low-canvas-1-16-210-330586',\n",
       " 'https://www.nike.com.br/womens-lahar-low-canvas-1-16-210-330564',\n",
       " 'https://www.nike.com.br/air-max-90-153-169-211-330199']"
      ]
     },
     "execution_count": 4,
     "metadata": {},
     "output_type": "execute_result"
    }
   ],
   "source": [
    "url_nike = 'https://www.nike.com.br/snkrs#estoque'\n",
    "bs_estoque = BeautifulSoup(obtem_codigo_fonte(url_nike), 'html.parser')\n",
    "\n",
    "lista_de_urls_snkrs = list()\n",
    "for i, url_snkrs in enumerate(bs_estoque.find_all('div', {'class' : 'produto produto--comprar'})):\n",
    "    href = url_snkrs.find('a', href = True)['href']\n",
    "    lista_de_urls_snkrs.append(href)\n",
    "    \n",
    "lista_de_urls_snkrs[:5]"
   ]
  },
  {
   "cell_type": "code",
   "execution_count": 89,
   "metadata": {},
   "outputs": [
    {
     "name": "stderr",
     "output_type": "stream",
     "text": [
      "<ipython-input-3-7172526d085b>:4: DeprecationWarning: use options instead of chrome_options\n",
      "  driver = webdriver.Chrome(executable_path = '../chromedriver.exe', chrome_options = chrome_options)\n"
     ]
    }
   ],
   "source": [
    "lista_de_snkrs = list()\n",
    "for i, url in enumerate(lista_de_urls_snkrs):\n",
    "    try:\n",
    "        dicionario = dict()\n",
    "        bs_snkrs = BeautifulSoup(obtem_codigo_fonte(url), 'html.parser')\n",
    "        dicionario['Valor'] = bs_snkrs.find('span', {'class' : '--valores'}).text\n",
    "        dicionario['Nome'] = bs_snkrs.find('div', {'class' : 'nome-preco-produto'}).find('span').text\n",
    "\n",
    "\n",
    "        padrao_regex = r'data-tamanho=\"(.|..|...|....)\"'\n",
    "        dicionario['Tamanhos'] = [re.findall(padrao_regex, str(tamanho)) \n",
    "                                  for tamanho in bs_snkrs.find_all('input', \n",
    "                                                              {'class' : 'tamanho__item_pdp js-tamanho__item_pdp'})]\n",
    "        dicionario['Link'] = url\n",
    "        \n",
    "    except NoSuchElementException as e:\n",
    "        print(f'Elemento não encontrado na url: {i} - {url}')\n",
    "        continue\n",
    "        \n",
    "    finally:\n",
    "        lista_de_snkrs.append(dicionario)"
   ]
  },
  {
   "cell_type": "code",
   "execution_count": 91,
   "metadata": {},
   "outputs": [
    {
     "data": {
      "text/html": [
       "<div>\n",
       "<style scoped>\n",
       "    .dataframe tbody tr th:only-of-type {\n",
       "        vertical-align: middle;\n",
       "    }\n",
       "\n",
       "    .dataframe tbody tr th {\n",
       "        vertical-align: top;\n",
       "    }\n",
       "\n",
       "    .dataframe thead th {\n",
       "        text-align: right;\n",
       "    }\n",
       "</style>\n",
       "<table border=\"1\" class=\"dataframe\">\n",
       "  <thead>\n",
       "    <tr style=\"text-align: right;\">\n",
       "      <th></th>\n",
       "      <th>Valor</th>\n",
       "      <th>Tamanhos</th>\n",
       "      <th>Link</th>\n",
       "    </tr>\n",
       "    <tr>\n",
       "      <th>Nome</th>\n",
       "      <th></th>\n",
       "      <th></th>\n",
       "      <th></th>\n",
       "    </tr>\n",
       "  </thead>\n",
       "  <tbody>\n",
       "    <tr>\n",
       "      <th>Air Jordan 1 Low OG</th>\n",
       "      <td>R$ 899,99</td>\n",
       "      <td>[[45], [46]]</td>\n",
       "      <td>https://www.nike.com.br/air-jordan-1-low-og-15...</td>\n",
       "    </tr>\n",
       "    <tr>\n",
       "      <th>Air Jordan 7</th>\n",
       "      <td>R$ 1.299,99</td>\n",
       "      <td>[[39], [40], [41]]</td>\n",
       "      <td>https://www.nike.com.br/air-jordan-7-153-169-2...</td>\n",
       "    </tr>\n",
       "    <tr>\n",
       "      <th>Women's Lahar Low Canvas</th>\n",
       "      <td>R$ 649,99</td>\n",
       "      <td>[[33,5], [34], [35,5], [36], [37,5], [38], [39...</td>\n",
       "      <td>https://www.nike.com.br/womens-lahar-low-canva...</td>\n",
       "    </tr>\n",
       "    <tr>\n",
       "      <th>Women's Lahar Low Canvas</th>\n",
       "      <td>R$ 649,99</td>\n",
       "      <td>[[33,5], [34], [35,5], [36], [37,5], [38]]</td>\n",
       "      <td>https://www.nike.com.br/womens-lahar-low-canva...</td>\n",
       "    </tr>\n",
       "    <tr>\n",
       "      <th>Air Max 90</th>\n",
       "      <td>R$ 749,99</td>\n",
       "      <td>[[36], [37], [38], [39], [39,5], [40,5], [41],...</td>\n",
       "      <td>https://www.nike.com.br/air-max-90-153-169-211...</td>\n",
       "    </tr>\n",
       "  </tbody>\n",
       "</table>\n",
       "</div>"
      ],
      "text/plain": [
       "                                Valor  \\\n",
       "Nome                                    \n",
       "Air Jordan 1 Low OG         R$ 899,99   \n",
       "Air Jordan 7              R$ 1.299,99   \n",
       "Women's Lahar Low Canvas    R$ 649,99   \n",
       "Women's Lahar Low Canvas    R$ 649,99   \n",
       "Air Max 90                  R$ 749,99   \n",
       "\n",
       "                                                                   Tamanhos  \\\n",
       "Nome                                                                          \n",
       "Air Jordan 1 Low OG                                            [[45], [46]]   \n",
       "Air Jordan 7                                             [[39], [40], [41]]   \n",
       "Women's Lahar Low Canvas  [[33,5], [34], [35,5], [36], [37,5], [38], [39...   \n",
       "Women's Lahar Low Canvas         [[33,5], [34], [35,5], [36], [37,5], [38]]   \n",
       "Air Max 90                [[36], [37], [38], [39], [39,5], [40,5], [41],...   \n",
       "\n",
       "                                                                       Link  \n",
       "Nome                                                                         \n",
       "Air Jordan 1 Low OG       https://www.nike.com.br/air-jordan-1-low-og-15...  \n",
       "Air Jordan 7              https://www.nike.com.br/air-jordan-7-153-169-2...  \n",
       "Women's Lahar Low Canvas  https://www.nike.com.br/womens-lahar-low-canva...  \n",
       "Women's Lahar Low Canvas  https://www.nike.com.br/womens-lahar-low-canva...  \n",
       "Air Max 90                https://www.nike.com.br/air-max-90-153-169-211...  "
      ]
     },
     "execution_count": 91,
     "metadata": {},
     "output_type": "execute_result"
    }
   ],
   "source": [
    "data = pd.DataFrame(lista_de_snkrs, columns = ['Nome', 'Valor', 'Tamanhos', 'Link']).set_index('Nome')\n",
    "data.head()"
   ]
  },
  {
   "cell_type": "code",
   "execution_count": 96,
   "metadata": {},
   "outputs": [
    {
     "name": "stdout",
     "output_type": "stream",
     "text": [
      "Valor       0\n",
      "Tamanhos    0\n",
      "Link        0\n",
      "dtype: int64\n"
     ]
    }
   ],
   "source": [
    "dados_nulos = data.isna().sum()\n",
    "print(dados_nulos)"
   ]
  },
  {
   "cell_type": "code",
   "execution_count": 97,
   "metadata": {},
   "outputs": [],
   "source": [
    "_ = data.dropna(inplace = True)"
   ]
  },
  {
   "cell_type": "code",
   "execution_count": 109,
   "metadata": {},
   "outputs": [],
   "source": [
    "data.to_excel('Estoque_Nike_Snkrs.xls', encoding = 'UTF-8')"
   ]
  },
  {
   "cell_type": "code",
   "execution_count": null,
   "metadata": {},
   "outputs": [],
   "source": []
  }
 ],
 "metadata": {
  "kernelspec": {
   "display_name": "Python 3",
   "language": "python",
   "name": "python3"
  },
  "language_info": {
   "codemirror_mode": {
    "name": "ipython",
    "version": 3
   },
   "file_extension": ".py",
   "mimetype": "text/x-python",
   "name": "python",
   "nbconvert_exporter": "python",
   "pygments_lexer": "ipython3",
   "version": "3.8.3"
  }
 },
 "nbformat": 4,
 "nbformat_minor": 4
}
